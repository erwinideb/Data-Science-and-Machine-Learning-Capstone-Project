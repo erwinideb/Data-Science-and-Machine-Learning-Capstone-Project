{
    "cells": [
        {
            "cell_type": "markdown",
            "metadata": {},
            "source": "## Introduction\n\nUsing this Python notebook you will:\n\n1.  Understand the Spacex DataSet\n2.  Load the dataset  into the corresponding table in a Db2 database\n3.  Execute SQL queries to answer assignment questions"
        },
        {
            "cell_type": "markdown",
            "metadata": {},
            "source": "## Overview of the DataSet\n\nSpaceX has gained worldwide attention for a series of historic milestones.\n\nIt is the only private company ever to return a spacecraft from low-earth orbit, which it first accomplished in December 2010.\nSpaceX advertises Falcon 9 rocket launches on its website with a cost of 62 million dollars wheras other providers cost upward of 165 million dollars each, much of the savings is because Space X can reuse the first stage.\n\nTherefore if we can determine if the first stage will land, we can determine the cost of a launch.\n\nThis information can be used if an alternate company wants to bid against SpaceX for a rocket launch.\n\nThis dataset includes a record for each payload carried during a SpaceX mission into outer space."
        },
        {
            "cell_type": "markdown",
            "metadata": {},
            "source": "### Download the datasets\n\nThis assignment requires you to load the spacex dataset.\n\nIn many cases the dataset to be analyzed is available as a .CSV (comma separated values) file, perhaps on the internet. Click on the link below to download and save the dataset (.CSV file):\n\n<a href=\"https://cf-courses-data.s3.us.cloud-object-storage.appdomain.cloud/IBM-DS0321EN-SkillsNetwork/labs/module_2/data/Spacex.csv?utm_medium=Exinfluencer&utm_source=Exinfluencer&utm_content=000026UJ&utm_term=10006555&utm_id=NA-SkillsNetwork-Channel-SkillsNetworkCoursesIBMDS0321ENSkillsNetwork26802033-2021-01-01\" target=\"_blank\">Spacex DataSet</a>"
        },
        {
            "cell_type": "code",
            "execution_count": 2,
            "metadata": {},
            "outputs": [
                {
                    "name": "stdout",
                    "output_type": "stream",
                    "text": "Requirement already satisfied: sqlalchemy==1.3.9 in /opt/anaconda3/lib/python3.8/site-packages (1.3.9)\nRequirement already satisfied: ibm_db_sa in /opt/anaconda3/lib/python3.8/site-packages (0.3.7)\nRequirement already satisfied: ibm-db>=2.0.0 in /opt/anaconda3/lib/python3.8/site-packages (from ibm_db_sa) (3.0.4)\nRequirement already satisfied: sqlalchemy>=0.7.3 in /opt/anaconda3/lib/python3.8/site-packages (from ibm_db_sa) (1.3.9)\nRequirement already satisfied: ipython-sql in /opt/anaconda3/lib/python3.8/site-packages (0.4.0)\nRequirement already satisfied: prettytable<1 in /opt/anaconda3/lib/python3.8/site-packages (from ipython-sql) (0.7.2)\nRequirement already satisfied: six in /opt/anaconda3/lib/python3.8/site-packages (from ipython-sql) (1.15.0)\nRequirement already satisfied: ipython>=1.0 in /opt/anaconda3/lib/python3.8/site-packages (from ipython-sql) (7.27.0)\nRequirement already satisfied: sqlalchemy>=0.6.7 in /opt/anaconda3/lib/python3.8/site-packages (from ipython-sql) (1.3.9)\nRequirement already satisfied: ipython-genutils>=0.1.0 in /opt/anaconda3/lib/python3.8/site-packages (from ipython-sql) (0.2.0)\nRequirement already satisfied: sqlparse in /opt/anaconda3/lib/python3.8/site-packages (from ipython-sql) (0.4.2)\nRequirement already satisfied: pickleshare in /opt/anaconda3/lib/python3.8/site-packages (from ipython>=1.0->ipython-sql) (0.7.5)\nRequirement already satisfied: traitlets>=4.2 in /opt/anaconda3/lib/python3.8/site-packages (from ipython>=1.0->ipython-sql) (5.0.5)\nRequirement already satisfied: appnope in /opt/anaconda3/lib/python3.8/site-packages (from ipython>=1.0->ipython-sql) (0.1.0)\nRequirement already satisfied: pygments in /opt/anaconda3/lib/python3.8/site-packages (from ipython>=1.0->ipython-sql) (2.7.2)\nRequirement already satisfied: decorator in /opt/anaconda3/lib/python3.8/site-packages (from ipython>=1.0->ipython-sql) (4.4.2)\nRequirement already satisfied: prompt-toolkit!=3.0.0,!=3.0.1,<3.1.0,>=2.0.0 in /opt/anaconda3/lib/python3.8/site-packages (from ipython>=1.0->ipython-sql) (3.0.8)\nRequirement already satisfied: pexpect>4.3 in /opt/anaconda3/lib/python3.8/site-packages (from ipython>=1.0->ipython-sql) (4.8.0)\nRequirement already satisfied: matplotlib-inline in /opt/anaconda3/lib/python3.8/site-packages (from ipython>=1.0->ipython-sql) (0.1.2)\nRequirement already satisfied: jedi>=0.16 in /opt/anaconda3/lib/python3.8/site-packages (from ipython>=1.0->ipython-sql) (0.17.1)\nRequirement already satisfied: setuptools>=18.5 in /opt/anaconda3/lib/python3.8/site-packages (from ipython>=1.0->ipython-sql) (50.3.1.post20201107)\nRequirement already satisfied: backcall in /opt/anaconda3/lib/python3.8/site-packages (from ipython>=1.0->ipython-sql) (0.2.0)\nRequirement already satisfied: parso<0.8.0,>=0.7.0 in /opt/anaconda3/lib/python3.8/site-packages (from jedi>=0.16->ipython>=1.0->ipython-sql) (0.7.0)\nRequirement already satisfied: ptyprocess>=0.5 in /opt/anaconda3/lib/python3.8/site-packages (from pexpect>4.3->ipython>=1.0->ipython-sql) (0.6.0)\nRequirement already satisfied: wcwidth in /opt/anaconda3/lib/python3.8/site-packages (from prompt-toolkit!=3.0.0,!=3.0.1,<3.1.0,>=2.0.0->ipython>=1.0->ipython-sql) (0.2.5)\nRequirement already satisfied: ibm_db in /opt/anaconda3/lib/python3.8/site-packages (3.0.4)\nRequirement already satisfied: pyodbc in /opt/anaconda3/lib/python3.8/site-packages (4.0.0-unsupported)\n"
                }
            ],
            "source": "!pip install sqlalchemy==1.3.9\n!pip install ibm_db_sa\n!pip install ipython-sql\n!pip install ibm_db\n!pip install pyodbc"
        },
        {
            "cell_type": "markdown",
            "metadata": {
                "tags": []
            },
            "source": "### Connect to the database\n\nLet us first load the SQL extension and establish a connection with the database"
        },
        {
            "cell_type": "code",
            "execution_count": 3,
            "metadata": {},
            "outputs": [],
            "source": "import ibm_db\nimport ibm_db_sa\nimport sqlalchemy\nimport ibm_db\nimport sys\nimport pyodbc"
        },
        {
            "cell_type": "code",
            "execution_count": 1,
            "metadata": {},
            "outputs": [
                {
                    "name": "stdout",
                    "output_type": "stream",
                    "text": "test\n"
                }
            ],
            "source": "print(\"test\")"
        },
        {
            "cell_type": "code",
            "execution_count": 5,
            "metadata": {},
            "outputs": [],
            "source": "%load_ext sql"
        },
        {
            "cell_type": "code",
            "execution_count": 6,
            "metadata": {},
            "outputs": [],
            "source": "user = \nhost = \npassword = \"\n#db2+ibm_db"
        },
        {
            "cell_type": "code",
            "execution_count": 7,
            "metadata": {},
            "outputs": [],
            "source": "%sql ibm_db_sa://"
        },
        {
            "cell_type": "markdown",
            "metadata": {},
            "source": "## Tasks\n\nNow write and execute SQL queries to solve the assignment tasks.\n\n### Task 1\n\n##### Display the names of the unique launch sites  in the space mission"
        },
        {
            "cell_type": "code",
            "execution_count": 8,
            "metadata": {},
            "outputs": [
                {
                    "name": "stdout",
                    "output_type": "stream",
                    "text": " * ibm_db_sa://gcs66433:***@dashdb-txn-sbox-yp-lon02-02.services.eu-gb.bluemix.net:50000/BLUDB\nDone.\n"
                },
                {
                    "data": {
                        "text/html": "<table>\n    <tr>\n        <th>launch_site</th>\n    </tr>\n    <tr>\n        <td>CCAFS LC-40</td>\n    </tr>\n    <tr>\n        <td>CCAFS SLC-40</td>\n    </tr>\n    <tr>\n        <td>KSC LC-39A</td>\n    </tr>\n    <tr>\n        <td>VAFB SLC-4E</td>\n    </tr>\n</table>",
                        "text/plain": "[('CCAFS LC-40',), ('CCAFS SLC-40',), ('KSC LC-39A',), ('VAFB SLC-4E',)]"
                    },
                    "execution_count": 8,
                    "metadata": {},
                    "output_type": "execute_result"
                }
            ],
            "source": "unique_launch_site = %sql select DISTINCT LAUNCH_SITE from SPACEXTBL\nunique_launch_site"
        },
        {
            "cell_type": "markdown",
            "metadata": {},
            "source": "### Task 2\n\n##### Display 5 records where launch sites begin with the string 'CCA'"
        },
        {
            "cell_type": "code",
            "execution_count": 9,
            "metadata": {},
            "outputs": [
                {
                    "name": "stdout",
                    "output_type": "stream",
                    "text": " * ibm_db_sa://gcs66433:***@dashdb-txn-sbox-yp-lon02-02.services.eu-gb.bluemix.net:50000/BLUDB\nDone.\n"
                },
                {
                    "data": {
                        "text/html": "<table>\n    <tr>\n        <th>DATE</th>\n        <th>time__utc_</th>\n        <th>booster_version</th>\n        <th>launch_site</th>\n        <th>payload</th>\n        <th>payload_mass__kg_</th>\n        <th>orbit</th>\n        <th>customer</th>\n        <th>mission_outcome</th>\n        <th>landing__outcome</th>\n    </tr>\n    <tr>\n        <td>2010-06-04</td>\n        <td>18:45:00</td>\n        <td>F9 v1.0  B0003</td>\n        <td>CCAFS LC-40</td>\n        <td>None</td>\n        <td>0</td>\n        <td>LEO</td>\n        <td>SpaceX</td>\n        <td>Success</td>\n        <td>Failure (parachute)</td>\n    </tr>\n    <tr>\n        <td>2010-12-08</td>\n        <td>15:43:00</td>\n        <td>F9 v1.0  B0004</td>\n        <td>CCAFS LC-40</td>\n        <td>None</td>\n        <td>0</td>\n        <td>LEO (ISS)</td>\n        <td>NASA (COTS) NRO</td>\n        <td>Success</td>\n        <td>Failure (parachute)</td>\n    </tr>\n    <tr>\n        <td>2012-05-22</td>\n        <td>07:44:00</td>\n        <td>F9 v1.0  B0005</td>\n        <td>CCAFS LC-40</td>\n        <td>None</td>\n        <td>525</td>\n        <td>LEO (ISS)</td>\n        <td>NASA (COTS)</td>\n        <td>Success</td>\n        <td>No attempt</td>\n    </tr>\n    <tr>\n        <td>2012-10-08</td>\n        <td>00:35:00</td>\n        <td>F9 v1.0  B0006</td>\n        <td>CCAFS LC-40</td>\n        <td>None</td>\n        <td>500</td>\n        <td>LEO (ISS)</td>\n        <td>NASA (CRS)</td>\n        <td>Success</td>\n        <td>No attempt</td>\n    </tr>\n    <tr>\n        <td>2013-03-01</td>\n        <td>15:10:00</td>\n        <td>F9 v1.0  B0007</td>\n        <td>CCAFS LC-40</td>\n        <td>None</td>\n        <td>677</td>\n        <td>LEO (ISS)</td>\n        <td>NASA (CRS)</td>\n        <td>Success</td>\n        <td>No attempt</td>\n    </tr>\n</table>",
                        "text/plain": "[(datetime.date(2010, 6, 4), datetime.time(18, 45), 'F9 v1.0  B0003', 'CCAFS LC-40', None, 0, 'LEO', 'SpaceX', 'Success', 'Failure (parachute)'),\n (datetime.date(2010, 12, 8), datetime.time(15, 43), 'F9 v1.0  B0004', 'CCAFS LC-40', None, 0, 'LEO (ISS)', 'NASA (COTS) NRO', 'Success', 'Failure (parachute)'),\n (datetime.date(2012, 5, 22), datetime.time(7, 44), 'F9 v1.0  B0005', 'CCAFS LC-40', None, 525, 'LEO (ISS)', 'NASA (COTS)', 'Success', 'No attempt'),\n (datetime.date(2012, 10, 8), datetime.time(0, 35), 'F9 v1.0  B0006', 'CCAFS LC-40', None, 500, 'LEO (ISS)', 'NASA (CRS)', 'Success', 'No attempt'),\n (datetime.date(2013, 3, 1), datetime.time(15, 10), 'F9 v1.0  B0007', 'CCAFS LC-40', None, 677, 'LEO (ISS)', 'NASA (CRS)', 'Success', 'No attempt')]"
                    },
                    "execution_count": 9,
                    "metadata": {},
                    "output_type": "execute_result"
                }
            ],
            "source": "cca_launch_site__five_record = %sql select * from SPACEXTBL where LAUNCH_SITE like 'CCA%' limit 5\ncca_launch_site__five_record"
        },
        {
            "cell_type": "markdown",
            "metadata": {},
            "source": "### Task 3\n\n##### Display the total payload mass carried by boosters launched by NASA (CRS)"
        },
        {
            "cell_type": "code",
            "execution_count": 10,
            "metadata": {},
            "outputs": [
                {
                    "name": "stdout",
                    "output_type": "stream",
                    "text": " * ibm_db_sa://gcs66433:***@dashdb-txn-sbox-yp-lon02-02.services.eu-gb.bluemix.net:50000/BLUDB\nDone.\n"
                },
                {
                    "data": {
                        "text/html": "<table>\n    <tr>\n        <th>total_payload_mass</th>\n    </tr>\n    <tr>\n        <td>45596</td>\n    </tr>\n</table>",
                        "text/plain": "[(45596,)]"
                    },
                    "execution_count": 10,
                    "metadata": {},
                    "output_type": "execute_result"
                }
            ],
            "source": "payload_mass_nasa_crs = %sql select sum(PAYLOAD_MASS__KG_) as Total_Payload_Mass from SPACEXTBL where CUSTOMER='NASA (CRS)'\npayload_mass_nasa_crs"
        },
        {
            "cell_type": "markdown",
            "metadata": {},
            "source": "### Task 4\n\n##### Display average payload mass carried by booster version F9 v1.1"
        },
        {
            "cell_type": "code",
            "execution_count": 11,
            "metadata": {},
            "outputs": [
                {
                    "name": "stdout",
                    "output_type": "stream",
                    "text": " * ibm_db_sa://gcs66433:***@dashdb-txn-sbox-yp-lon02-02.services.eu-gb.bluemix.net:50000/BLUDB\nDone.\n"
                },
                {
                    "data": {
                        "text/html": "<table>\n    <tr>\n        <th>avarage_payload_mass</th>\n    </tr>\n    <tr>\n        <td>2928.400000</td>\n    </tr>\n</table>",
                        "text/plain": "[(Decimal('2928.400000'),)]"
                    },
                    "execution_count": 11,
                    "metadata": {},
                    "output_type": "execute_result"
                }
            ],
            "source": "avarage_payload_mass_carried_F9_v1_1 = %sql select avg(PAYLOAD_MASS__KG_) as Avarage_Payload_Mass from SPACEXTBL where BOOSTER_VERSION = 'F9 v1.1'\navarage_payload_mass_carried_F9_v1_1"
        },
        {
            "cell_type": "markdown",
            "metadata": {},
            "source": "### Task 5\n\n##### List the date when the first succesful landing outcome in ground pad was acheived.\n\n*Hint:Use min function*"
        },
        {
            "cell_type": "code",
            "execution_count": 12,
            "metadata": {},
            "outputs": [
                {
                    "name": "stdout",
                    "output_type": "stream",
                    "text": " * ibm_db_sa://gcs66433:***@dashdb-txn-sbox-yp-lon02-02.services.eu-gb.bluemix.net:50000/BLUDB\nDone.\n"
                },
                {
                    "data": {
                        "text/html": "<table>\n    <tr>\n        <th>date_first_successful_outcome_ground_pad</th>\n    </tr>\n    <tr>\n        <td>2015-12-22</td>\n    </tr>\n</table>",
                        "text/plain": "[(datetime.date(2015, 12, 22),)]"
                    },
                    "execution_count": 12,
                    "metadata": {},
                    "output_type": "execute_result"
                }
            ],
            "source": "successful_ground_pad_landing = %sql select min(DATE) as Date_first_successful_outcome_ground_pad from SPACEXTBL where LANDING__OUTCOME = 'Success (ground pad)'\nsuccessful_ground_pad_landing"
        },
        {
            "cell_type": "markdown",
            "metadata": {},
            "source": "### Task 6\n\n##### List the names of the boosters which have success in drone ship and have payload mass greater than 4000 but less than 6000"
        },
        {
            "cell_type": "code",
            "execution_count": 13,
            "metadata": {},
            "outputs": [
                {
                    "name": "stdout",
                    "output_type": "stream",
                    "text": " * ibm_db_sa://gcs66433:***@dashdb-txn-sbox-yp-lon02-02.services.eu-gb.bluemix.net:50000/BLUDB\nDone.\n"
                },
                {
                    "data": {
                        "text/html": "<table>\n    <tr>\n        <th>booster_version</th>\n    </tr>\n    <tr>\n        <td>F9 FT B1022</td>\n    </tr>\n    <tr>\n        <td>F9 FT B1026</td>\n    </tr>\n    <tr>\n        <td>F9 FT  B1021.2</td>\n    </tr>\n    <tr>\n        <td>F9 FT  B1031.2</td>\n    </tr>\n</table>",
                        "text/plain": "[('F9 FT B1022',), ('F9 FT B1026',), ('F9 FT  B1021.2',), ('F9 FT  B1031.2',)]"
                    },
                    "execution_count": 13,
                    "metadata": {},
                    "output_type": "execute_result"
                }
            ],
            "source": "successful_drone_landing_payload_mass = %sql select BOOSTER_VERSION from SPACEXTBL where LANDING__OUTCOME = 'Success (drone ship)' and PAYLOAD_MASS__KG_ BETWEEN 4000 and 6000 \nsuccessful_drone_landing_payload_mass"
        },
        {
            "cell_type": "markdown",
            "metadata": {},
            "source": "### Task 7\n\n##### List the total number of successful and failure mission outcomes"
        },
        {
            "cell_type": "code",
            "execution_count": 14,
            "metadata": {},
            "outputs": [
                {
                    "name": "stdout",
                    "output_type": "stream",
                    "text": " * ibm_db_sa://gcs66433:***@dashdb-txn-sbox-yp-lon02-02.services.eu-gb.bluemix.net:50000/BLUDB\nDone.\n"
                },
                {
                    "data": {
                        "text/html": "<table>\n    <tr>\n        <th>success_mission_outcome</th>\n    </tr>\n    <tr>\n        <td>100</td>\n    </tr>\n</table>",
                        "text/plain": "[(Decimal('100'),)]"
                    },
                    "execution_count": 14,
                    "metadata": {},
                    "output_type": "execute_result"
                }
            ],
            "source": "success_mission_outcome = %sql select count(MISSION_OUTCOME) as success_mission_outcome from SPACEXTBL where MISSION_OUTCOME like '%Success%'\nsuccess_mission_outcome"
        },
        {
            "cell_type": "code",
            "execution_count": 15,
            "metadata": {},
            "outputs": [
                {
                    "name": "stdout",
                    "output_type": "stream",
                    "text": " * ibm_db_sa://gcs66433:***@dashdb-txn-sbox-yp-lon02-02.services.eu-gb.bluemix.net:50000/BLUDB\nDone.\n"
                },
                {
                    "data": {
                        "text/html": "<table>\n    <tr>\n        <th>failure_mission_outcome</th>\n    </tr>\n    <tr>\n        <td>1</td>\n    </tr>\n</table>",
                        "text/plain": "[(Decimal('1'),)]"
                    },
                    "execution_count": 15,
                    "metadata": {},
                    "output_type": "execute_result"
                }
            ],
            "source": "failure_mission_outcome = %sql select count(MISSION_OUTCOME) as failure_mission_outcome from SPACEXTBL where MISSION_OUTCOME like '%Failure%'\nfailure_mission_outcome"
        },
        {
            "cell_type": "code",
            "execution_count": 16,
            "metadata": {},
            "outputs": [
                {
                    "data": {
                        "text/html": "<div>\n<style scoped>\n    .dataframe tbody tr th:only-of-type {\n        vertical-align: middle;\n    }\n\n    .dataframe tbody tr th {\n        vertical-align: top;\n    }\n\n    .dataframe thead th {\n        text-align: right;\n    }\n</style>\n<table border=\"1\" class=\"dataframe\">\n  <thead>\n    <tr style=\"text-align: right;\">\n      <th></th>\n      <th>successful_mission_outcome</th>\n      <th>failure_mission_outcome</th>\n    </tr>\n  </thead>\n  <tbody>\n    <tr>\n      <th>0</th>\n      <td>(100)</td>\n      <td>(1)</td>\n    </tr>\n  </tbody>\n</table>\n</div>",
                        "text/plain": "  successful_mission_outcome failure_mission_outcome\n0                      (100)                     (1)"
                    },
                    "execution_count": 16,
                    "metadata": {},
                    "output_type": "execute_result"
                }
            ],
            "source": "import pandas as pd\ndf1 = pd.DataFrame({'successful_mission_outcome':success_mission_outcome ,'failure_mission_outcome': failure_mission_outcome})\ndf1"
        },
        {
            "cell_type": "markdown",
            "metadata": {},
            "source": "### Task 8\n\n##### List the   names of the booster_versions which have carried the maximum payload mass. Use a subquery"
        },
        {
            "cell_type": "code",
            "execution_count": 51,
            "metadata": {},
            "outputs": [],
            "source": "# booste_versinon_max_payload = %sql select BOOSTER_VERSION as booster_versions from SPACEXTBL where PAYLOAD_MASS__KG_ = (select max(PAYLOAD_MASS__KG_) from SPACEXTBL)\n# booste_versinon_max_payload"
        },
        {
            "cell_type": "code",
            "execution_count": 49,
            "metadata": {},
            "outputs": [
                {
                    "name": "stdout",
                    "output_type": "stream",
                    "text": " * ibm_db_sa://gcs66433:***@dashdb-txn-sbox-yp-lon02-02.services.eu-gb.bluemix.net:50000/BLUDB\nDone.\n"
                },
                {
                    "data": {
                        "text/html": "<table>\n    <tr>\n        <th>booster_version</th>\n        <th>max_payload</th>\n    </tr>\n    <tr>\n        <td>F9 B5 B1048.4</td>\n        <td>15600</td>\n    </tr>\n    <tr>\n        <td>F9 B5 B1048.5</td>\n        <td>15600</td>\n    </tr>\n    <tr>\n        <td>F9 B5 B1049.4</td>\n        <td>15600</td>\n    </tr>\n    <tr>\n        <td>F9 B5 B1049.5</td>\n        <td>15600</td>\n    </tr>\n    <tr>\n        <td>F9 B5 B1049.7</td>\n        <td>15600</td>\n    </tr>\n    <tr>\n        <td>F9 B5 B1051.3</td>\n        <td>15600</td>\n    </tr>\n    <tr>\n        <td>F9 B5 B1051.4</td>\n        <td>15600</td>\n    </tr>\n    <tr>\n        <td>F9 B5 B1051.6</td>\n        <td>15600</td>\n    </tr>\n    <tr>\n        <td>F9 B5 B1056.4</td>\n        <td>15600</td>\n    </tr>\n    <tr>\n        <td>F9 B5 B1058.3</td>\n        <td>15600</td>\n    </tr>\n    <tr>\n        <td>F9 B5 B1060.2</td>\n        <td>15600</td>\n    </tr>\n    <tr>\n        <td>F9 B5 B1060.3</td>\n        <td>15600</td>\n    </tr>\n    <tr>\n        <td>F9 B5 B1049.6</td>\n        <td>15440</td>\n    </tr>\n    <tr>\n        <td>F9 B5 B1059.3</td>\n        <td>15410</td>\n    </tr>\n    <tr>\n        <td>F9 B5 B1051.5</td>\n        <td>14932</td>\n    </tr>\n    <tr>\n        <td>F9 B5 B1049.3</td>\n        <td>13620</td>\n    </tr>\n    <tr>\n        <td>F9 B5B1058.1</td>\n        <td>12530</td>\n    </tr>\n    <tr>\n        <td>F9 B5B1061.1</td>\n        <td>12500</td>\n    </tr>\n    <tr>\n        <td>F9 B5B1051.1</td>\n        <td>12055</td>\n    </tr>\n    <tr>\n        <td>F9 B5 B1046.4</td>\n        <td>12050</td>\n    </tr>\n    <tr>\n        <td>F9 B4  B1041.2</td>\n        <td>9600</td>\n    </tr>\n    <tr>\n        <td>F9 B4 B1041.1</td>\n        <td>9600</td>\n    </tr>\n    <tr>\n        <td>F9 B5 B1049.2</td>\n        <td>9600</td>\n    </tr>\n    <tr>\n        <td>F9 B5B1048.1</td>\n        <td>9600</td>\n    </tr>\n    <tr>\n        <td>F9 FT  B1036.2</td>\n        <td>9600</td>\n    </tr>\n    <tr>\n        <td>F9 FT B1029.1</td>\n        <td>9600</td>\n    </tr>\n    <tr>\n        <td>F9 FT B1036.1</td>\n        <td>9600</td>\n    </tr>\n    <tr>\n        <td>F9 B5B1047.1</td>\n        <td>7075</td>\n    </tr>\n    <tr>\n        <td>F9 B5B1049.1</td>\n        <td>7060</td>\n    </tr>\n    <tr>\n        <td>F9 B5 B1056.3</td>\n        <td>6956</td>\n    </tr>\n    <tr>\n        <td>F9 FT B1037</td>\n        <td>6761</td>\n    </tr>\n    <tr>\n        <td>F9 B5 B1047.3</td>\n        <td>6500</td>\n    </tr>\n    <tr>\n        <td>F9 B4  B1043.2</td>\n        <td>6460</td>\n    </tr>\n    <tr>\n        <td>F9 B4 B1044</td>\n        <td>6092</td>\n    </tr>\n    <tr>\n        <td>F9 FT B1034</td>\n        <td>6070</td>\n    </tr>\n    <tr>\n        <td>F9 B5 B1046.2</td>\n        <td>5800</td>\n    </tr>\n    <tr>\n        <td>F9 FT B1030</td>\n        <td>5600</td>\n    </tr>\n    <tr>\n        <td>F9 B5 B1058.2</td>\n        <td>5500</td>\n    </tr>\n    <tr>\n        <td>F9 B4  B1040.2</td>\n        <td>5384</td>\n    </tr>\n    <tr>\n        <td>F9 B5 B1047.2</td>\n        <td>5300</td>\n    </tr>\n    <tr>\n        <td>F9 FT  B1021.2</td>\n        <td>5300</td>\n    </tr>\n    <tr>\n        <td>F9 FT B1032.1</td>\n        <td>5300</td>\n    </tr>\n    <tr>\n        <td>F9 FT B1020</td>\n        <td>5271</td>\n    </tr>\n    <tr>\n        <td>F9 FT  B1031.2</td>\n        <td>5200</td>\n    </tr>\n    <tr>\n        <td>F9 B4 B1043.1</td>\n        <td>5000</td>\n    </tr>\n    <tr>\n        <td>F9 B4 B1040.1</td>\n        <td>4990</td>\n    </tr>\n    <tr>\n        <td>F9 B5 B1048.3</td>\n        <td>4850</td>\n    </tr>\n    <tr>\n        <td>F9 v1.1 B1016</td>\n        <td>4707</td>\n    </tr>\n    <tr>\n        <td>F9 FT B1022</td>\n        <td>4696</td>\n    </tr>\n    <tr>\n        <td>F9 FT B1026</td>\n        <td>4600</td>\n    </tr>\n    <tr>\n        <td>F9 v1.1</td>\n        <td>4535</td>\n    </tr>\n    <tr>\n        <td>F9 v1.1 B1011</td>\n        <td>4428</td>\n    </tr>\n    <tr>\n        <td>F9 B5B1054</td>\n        <td>4400</td>\n    </tr>\n    <tr>\n        <td>F9 B5B1060.1</td>\n        <td>4311</td>\n    </tr>\n    <tr>\n        <td>F9 B5B1062.1</td>\n        <td>4311</td>\n    </tr>\n    <tr>\n        <td>F9 FT  B1032.2</td>\n        <td>4230</td>\n    </tr>\n    <tr>\n        <td>F9 B5 B1051.2</td>\n        <td>4200</td>\n    </tr>\n    <tr>\n        <td>F9 v1.1 B1014</td>\n        <td>4159</td>\n    </tr>\n    <tr>\n        <td>F9 B5 B1046.3</td>\n        <td>4000</td>\n    </tr>\n    <tr>\n        <td>F9 FT  B1029.2</td>\n        <td>3669</td>\n    </tr>\n    <tr>\n        <td>F9 B5  B1046.1</td>\n        <td>3600</td>\n    </tr>\n    <tr>\n        <td>F9 FT B1024</td>\n        <td>3600</td>\n    </tr>\n    <tr>\n        <td>F9 B4 B1042.1</td>\n        <td>3500</td>\n    </tr>\n    <tr>\n        <td>F9 B4 B1039.1</td>\n        <td>3310</td>\n    </tr>\n    <tr>\n        <td>F9 FT B1021.1</td>\n        <td>3136</td>\n    </tr>\n    <tr>\n        <td>F9 B5 B1059.4</td>\n        <td>3130</td>\n    </tr>\n    <tr>\n        <td>F9 FT B1023.1</td>\n        <td>3100</td>\n    </tr>\n    <tr>\n        <td>F9 B5 B1048.2</td>\n        <td>3000</td>\n    </tr>\n    <tr>\n        <td>F9 B5 B1058.4</td>\n        <td>2972</td>\n    </tr>\n    <tr>\n        <td>F9 FT B1035.1</td>\n        <td>2708</td>\n    </tr>\n    <tr>\n        <td>F9 B4 B1045.2</td>\n        <td>2697</td>\n    </tr>\n    <tr>\n        <td>F9 B4  B1039.2</td>\n        <td>2647</td>\n    </tr>\n    <tr>\n        <td>F9 B5B1059.1</td>\n        <td>2617</td>\n    </tr>\n    <tr>\n        <td>F9 B5B1050</td>\n        <td>2500</td>\n    </tr>\n    <tr>\n        <td>F9 B5B1056.1</td>\n        <td>2495</td>\n    </tr>\n    <tr>\n        <td>F9 FT B1031.1</td>\n        <td>2490</td>\n    </tr>\n    <tr>\n        <td>F9 v1.1 B1012</td>\n        <td>2395</td>\n    </tr>\n    <tr>\n        <td>F9 B5 B1056.2</td>\n        <td>2268</td>\n    </tr>\n    <tr>\n        <td>F9 FT B1025.1</td>\n        <td>2257</td>\n    </tr>\n    <tr>\n        <td>F9 v1.1 B1010</td>\n        <td>2216</td>\n    </tr>\n    <tr>\n        <td>F9 FT  B1035.2</td>\n        <td>2205</td>\n    </tr>\n    <tr>\n        <td>F9 FT  B1038.2</td>\n        <td>2150</td>\n    </tr>\n    <tr>\n        <td>F9 FT B1019</td>\n        <td>2034</td>\n    </tr>\n    <tr>\n        <td>F9 B5 B1059.2</td>\n        <td>1977</td>\n    </tr>\n    <tr>\n        <td>F9 v1.1 B1018</td>\n        <td>1952</td>\n    </tr>\n    <tr>\n        <td>F9 v1.1 B1015</td>\n        <td>1898</td>\n    </tr>\n    <tr>\n        <td>F9 B5B1063.1</td>\n        <td>1192</td>\n    </tr>\n    <tr>\n        <td>F9 v1.0  B0007</td>\n        <td>677</td>\n    </tr>\n    <tr>\n        <td>F9 v1.1 B1013</td>\n        <td>570</td>\n    </tr>\n    <tr>\n        <td>F9 v1.1 B1017</td>\n        <td>553</td>\n    </tr>\n    <tr>\n        <td>F9 v1.0  B0005</td>\n        <td>525</td>\n    </tr>\n    <tr>\n        <td>F9 v1.0  B0006</td>\n        <td>500</td>\n    </tr>\n    <tr>\n        <td>F9 v1.1  B1003</td>\n        <td>500</td>\n    </tr>\n    <tr>\n        <td>F9 FT B1038.1</td>\n        <td>475</td>\n    </tr>\n    <tr>\n        <td>F9 B4 B1045.1</td>\n        <td>362</td>\n    </tr>\n    <tr>\n        <td>F9 v1.0  B0003</td>\n        <td>0</td>\n    </tr>\n    <tr>\n        <td>F9 v1.0  B0004</td>\n        <td>0</td>\n    </tr>\n</table>",
                        "text/plain": "[('F9 B5 B1048.4', 15600),\n ('F9 B5 B1048.5', 15600),\n ('F9 B5 B1049.4', 15600),\n ('F9 B5 B1049.5', 15600),\n ('F9 B5 B1049.7', 15600),\n ('F9 B5 B1051.3', 15600),\n ('F9 B5 B1051.4', 15600),\n ('F9 B5 B1051.6', 15600),\n ('F9 B5 B1056.4', 15600),\n ('F9 B5 B1058.3', 15600),\n ('F9 B5 B1060.2', 15600),\n ('F9 B5 B1060.3', 15600),\n ('F9 B5 B1049.6', 15440),\n ('F9 B5 B1059.3', 15410),\n ('F9 B5 B1051.5', 14932),\n ('F9 B5 B1049.3', 13620),\n ('F9 B5B1058.1', 12530),\n ('F9 B5B1061.1', 12500),\n ('F9 B5B1051.1', 12055),\n ('F9 B5 B1046.4', 12050),\n ('F9 B4  B1041.2', 9600),\n ('F9 B4 B1041.1', 9600),\n ('F9 B5 B1049.2', 9600),\n ('F9 B5B1048.1', 9600),\n ('F9 FT  B1036.2', 9600),\n ('F9 FT B1029.1', 9600),\n ('F9 FT B1036.1', 9600),\n ('F9 B5B1047.1', 7075),\n ('F9 B5B1049.1', 7060),\n ('F9 B5 B1056.3', 6956),\n ('F9 FT B1037', 6761),\n ('F9 B5 B1047.3', 6500),\n ('F9 B4  B1043.2', 6460),\n ('F9 B4 B1044', 6092),\n ('F9 FT B1034', 6070),\n ('F9 B5 B1046.2', 5800),\n ('F9 FT B1030', 5600),\n ('F9 B5 B1058.2', 5500),\n ('F9 B4  B1040.2', 5384),\n ('F9 B5 B1047.2', 5300),\n ('F9 FT  B1021.2', 5300),\n ('F9 FT B1032.1', 5300),\n ('F9 FT B1020', 5271),\n ('F9 FT  B1031.2', 5200),\n ('F9 B4 B1043.1', 5000),\n ('F9 B4 B1040.1', 4990),\n ('F9 B5 B1048.3', 4850),\n ('F9 v1.1 B1016', 4707),\n ('F9 FT B1022', 4696),\n ('F9 FT B1026', 4600),\n ('F9 v1.1', 4535),\n ('F9 v1.1 B1011', 4428),\n ('F9 B5B1054', 4400),\n ('F9 B5B1060.1', 4311),\n ('F9 B5B1062.1', 4311),\n ('F9 FT  B1032.2', 4230),\n ('F9 B5 B1051.2', 4200),\n ('F9 v1.1 B1014', 4159),\n ('F9 B5 B1046.3', 4000),\n ('F9 FT  B1029.2', 3669),\n ('F9 B5  B1046.1', 3600),\n ('F9 FT B1024', 3600),\n ('F9 B4 B1042.1', 3500),\n ('F9 B4 B1039.1', 3310),\n ('F9 FT B1021.1', 3136),\n ('F9 B5 B1059.4', 3130),\n ('F9 FT B1023.1', 3100),\n ('F9 B5 B1048.2', 3000),\n ('F9 B5 B1058.4', 2972),\n ('F9 FT B1035.1', 2708),\n ('F9 B4 B1045.2', 2697),\n ('F9 B4  B1039.2', 2647),\n ('F9 B5B1059.1', 2617),\n ('F9 B5B1050', 2500),\n ('F9 B5B1056.1', 2495),\n ('F9 FT B1031.1', 2490),\n ('F9 v1.1 B1012', 2395),\n ('F9 B5 B1056.2', 2268),\n ('F9 FT B1025.1', 2257),\n ('F9 v1.1 B1010', 2216),\n ('F9 FT  B1035.2', 2205),\n ('F9 FT  B1038.2', 2150),\n ('F9 FT B1019', 2034),\n ('F9 B5 B1059.2', 1977),\n ('F9 v1.1 B1018', 1952),\n ('F9 v1.1 B1015', 1898),\n ('F9 B5B1063.1', 1192),\n ('F9 v1.0  B0007', 677),\n ('F9 v1.1 B1013', 570),\n ('F9 v1.1 B1017', 553),\n ('F9 v1.0  B0005', 525),\n ('F9 v1.0  B0006', 500),\n ('F9 v1.1  B1003', 500),\n ('F9 FT B1038.1', 475),\n ('F9 B4 B1045.1', 362),\n ('F9 v1.0  B0003', 0),\n ('F9 v1.0  B0004', 0)]"
                    },
                    "execution_count": 49,
                    "metadata": {},
                    "output_type": "execute_result"
                }
            ],
            "source": "load = %sql SELECT DISTINCT BOOSTER_VERSION , max(PAYLOAD_MASS__KG_) as max_payload FROM SPACEXTBL GROUP BY BOOSTER_VERSION ORDER BY max_payload DESC;\nload"
        },
        {
            "cell_type": "markdown",
            "metadata": {},
            "source": "### Task 9\n\n##### List the records which will display the month names, failure landing_outcomes in drone ship ,booster versions, launch_site for the months in year 2015"
        },
        {
            "cell_type": "code",
            "execution_count": 78,
            "metadata": {},
            "outputs": [
                {
                    "name": "stdout",
                    "output_type": "stream",
                    "text": " * ibm_db_sa://gcs66433:***@dashdb-txn-sbox-yp-lon02-02.services.eu-gb.bluemix.net:50000/BLUDB\nDone.\n"
                },
                {
                    "data": {
                        "text/html": "<table>\n    <tr>\n        <th>monthname</th>\n        <th>booster_version</th>\n        <th>launch_site</th>\n        <th>landing__outcome</th>\n    </tr>\n    <tr>\n        <td>January</td>\n        <td>F9 v1.1 B1012</td>\n        <td>CCAFS LC-40</td>\n        <td>Failure (drone ship)</td>\n    </tr>\n    <tr>\n        <td>April</td>\n        <td>F9 v1.1 B1015</td>\n        <td>CCAFS LC-40</td>\n        <td>Failure (drone ship)</td>\n    </tr>\n</table>",
                        "text/plain": "[('January', 'F9 v1.1 B1012', 'CCAFS LC-40', 'Failure (drone ship)'),\n ('April', 'F9 v1.1 B1015', 'CCAFS LC-40', 'Failure (drone ship)')]"
                    },
                    "execution_count": 78,
                    "metadata": {},
                    "output_type": "execute_result"
                }
            ],
            "source": "# list_2015 = %sql SELECT MONTH(DATE),MISSION_OUTCOME,BOOSTER_VERSION,LAUNCH_SITE FROM SPACEXTBL where EXTRACT(YEAR FROM DATE)='2015'\n# list_2015\n\nsucc = %sql SELECT MONTHNAME(DATE,'%m') as monthname, BOOSTER_VERSION, LAUNCH_SITE, LANDING__OUTCOME FROM SPACEXTBL WHERE (LANDING__OUTCOME LIKE '%Failure (drone ship)%') AND EXTRACT(YEAR FROM DATE) = '2015'\nsucc"
        },
        {
            "cell_type": "markdown",
            "metadata": {},
            "source": "### Task 10\n\n##### Rank the  count of  successful landing_outcomes between the date 2010-06-04 and 2017-03-20 in descending order."
        },
        {
            "cell_type": "code",
            "execution_count": 91,
            "metadata": {},
            "outputs": [
                {
                    "name": "stdout",
                    "output_type": "stream",
                    "text": " * ibm_db_sa://gcs66433:***@dashdb-txn-sbox-yp-lon02-02.services.eu-gb.bluemix.net:50000/BLUDB\nDone.\n"
                },
                {
                    "data": {
                        "text/html": "<table>\n    <tr>\n        <th>successful_landing_outcome</th>\n    </tr>\n    <tr>\n        <td>8</td>\n    </tr>\n</table>",
                        "text/plain": "[(Decimal('8'),)]"
                    },
                    "execution_count": 91,
                    "metadata": {},
                    "output_type": "execute_result"
                }
            ],
            "source": "rank_count = %sql select COUNT(LANDING__OUTCOME) as successful_landing_outcome from SPACEXTBL where (LANDING__OUTCOME LIKE '%Success%') AND (DATE > '2010-06-04') AND (DATE < '2017-03-20')\nrank_count\n# rank_count = %sql SELECT COUNT(LANDING__OUTCOME) FROM SPACEXTBL WHERE (LANDING__OUTCOME LIKE '%Success%\u2019) AND (DATE > '04-06-2010\u2019) AND (DATE < '20-03-2017')\n# rank_count"
        },
        {
            "cell_type": "code",
            "execution_count": null,
            "metadata": {},
            "outputs": [],
            "source": ""
        }
    ],
    "metadata": {
        "kernelspec": {
            "display_name": "Python 3.8",
            "language": "python",
            "name": "python3"
        },
        "language_info": {
            "codemirror_mode": {
                "name": "ipython",
                "version": 3
            },
            "file_extension": ".py",
            "mimetype": "text/x-python",
            "name": "python",
            "nbconvert_exporter": "python",
            "pygments_lexer": "ipython3",
            "version": "3.8.11"
        }
    },
    "nbformat": 4,
    "nbformat_minor": 4
}